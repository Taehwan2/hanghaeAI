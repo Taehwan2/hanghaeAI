{
  "nbformat": 4,
  "nbformat_minor": 0,
  "metadata": {
    "colab": {
      "provenance": [],
      "gpuType": "T4",
      "include_colab_link": true
    },
    "kernelspec": {
      "name": "python3",
      "display_name": "Python 3"
    },
    "language_info": {
      "name": "python"
    },
    "accelerator": "GPU"
  },
  "cells": [
    {
      "cell_type": "markdown",
      "metadata": {
        "id": "view-in-github",
        "colab_type": "text"
      },
      "source": [
        "<a href=\"https://colab.research.google.com/github/Taehwan2/hanghaeAI/blob/main/B_Solution.ipynb\" target=\"_parent\"><img src=\"https://colab.research.google.com/assets/colab-badge.svg\" alt=\"Open In Colab\"/></a>"
      ]
    },
    {
      "cell_type": "code",
      "execution_count": 1,
      "metadata": {
        "id": "bY-C1l1-Csf3"
      },
      "outputs": [],
      "source": [
        "import torch\n",
        "import torchvision\n",
        "import torchvision.transforms as transforms"
      ]
    },
    {
      "cell_type": "code",
      "source": [
        "import numpy as np\n",
        "import matplotlib.pyplot as plt\n",
        "\n",
        "\n",
        "def accuracy(model, dataloader):\n",
        "  cnt = 0\n",
        "  acc = 0\n",
        "\n",
        "  for data in dataloader:\n",
        "    inputs, labels = data\n",
        "    inputs, labels = inputs.to('cuda'), labels.to('cuda')\n",
        "\n",
        "    preds = model(inputs)\n",
        "    preds = torch.argmax(preds, dim=-1)\n",
        "\n",
        "    cnt += labels.shape[0]\n",
        "    acc += (labels == preds).sum().item()\n",
        "\n",
        "  return acc / cnt\n",
        "\n",
        "\n",
        "def plot_acc(train_accs, test_accs, label1='train', label2='test'):\n",
        "  x = np.arange(len(train_accs))\n",
        "\n",
        "  plt.plot(x, train_accs, label=label1)\n",
        "  plt.plot(x, test_accs, label=label2)\n",
        "  plt.legend()\n",
        "  plt.show()"
      ],
      "metadata": {
        "id": "IXyD-teDCxgf"
      },
      "execution_count": 2,
      "outputs": []
    },
    {
      "cell_type": "code",
      "source": [
        "transform = transforms.ToTensor()\n",
        "\n",
        "trainset = torchvision.datasets.CIFAR10(\n",
        "    root='./data',\n",
        "    train=True,\n",
        "    download=True,\n",
        "    transform=transform\n",
        ")\n",
        "testset = torchvision.datasets.CIFAR10(\n",
        "    root='./data',\n",
        "    train=False,\n",
        "    download=True,\n",
        "    transform=transform\n",
        ")"
      ],
      "metadata": {
        "colab": {
          "base_uri": "https://localhost:8080/"
        },
        "id": "YlXhpXD2CzLl",
        "outputId": "0cf7f8e7-c28c-404c-f960-7fc527e22275"
      },
      "execution_count": 3,
      "outputs": [
        {
          "output_type": "stream",
          "name": "stderr",
          "text": [
            "100%|██████████| 170M/170M [00:07<00:00, 23.5MB/s]\n"
          ]
        }
      ]
    },
    {
      "cell_type": "code",
      "source": [
        "print(len(trainset))\n",
        "print(trainset[0][0].shape, trainset[0][1])"
      ],
      "metadata": {
        "colab": {
          "base_uri": "https://localhost:8080/"
        },
        "id": "Db-vCtL1C2_O",
        "outputId": "30e44c57-2420-442c-f8b5-8e6910ea6617"
      },
      "execution_count": 4,
      "outputs": [
        {
          "output_type": "stream",
          "name": "stdout",
          "text": [
            "50000\n",
            "torch.Size([3, 32, 32]) 6\n"
          ]
        }
      ]
    },
    {
      "cell_type": "code",
      "source": [
        "batch_size = 256\n",
        "\n",
        "trainloader = torch.utils.data.DataLoader(\n",
        "    trainset,\n",
        "    batch_size=batch_size,\n",
        "    shuffle=True\n",
        ")\n",
        "testloader = torch.utils.data.DataLoader(\n",
        "    testset,\n",
        "    batch_size=batch_size,\n",
        "    shuffle=False\n",
        ")"
      ],
      "metadata": {
        "id": "noj1dKygDtNf"
      },
      "execution_count": 5,
      "outputs": []
    },
    {
      "cell_type": "code",
      "source": [
        "from torch import nn\n",
        "\n",
        "\n",
        "class Model1(nn.Module):\n",
        "  def __init__(self, input_dim, n_dim):\n",
        "    super().__init__()\n",
        "\n",
        "    self.layer1 = nn.Linear(input_dim, n_dim)\n",
        "    self.layer2 = nn.Linear(n_dim, n_dim)\n",
        "    self.layer3 = nn.Linear(n_dim, 10)\n",
        "\n",
        "    self.act = nn.LeakyReLU()\n",
        "\n",
        "  def forward(self, x):\n",
        "    x = torch.flatten(x, start_dim=1)\n",
        "    x = self.act(self.layer1(x))\n",
        "    x = self.act(self.layer2(x))\n",
        "    x = self.act(self.layer3(x))\n",
        "\n",
        "    return x"
      ],
      "metadata": {
        "id": "RrBeurqZDS7Z"
      },
      "execution_count": 6,
      "outputs": []
    },
    {
      "cell_type": "code",
      "source": [
        "# SGD\n",
        "from torch.optim import SGD, Adam\n",
        "\n",
        "lr = 0.001\n",
        "\n",
        "model = Model1(32 * 32 * 3, 1024)\n",
        "model = model.to('cuda')\n",
        "\n",
        "optimizer = SGD(model.parameters(), lr=lr)\n",
        "\n",
        "n_epochs = 50\n",
        "loss_fn = nn.CrossEntropyLoss()\n",
        "\n",
        "train_sgd = []\n",
        "\n",
        "for epoch in range(n_epochs):\n",
        "  total_loss = 0.\n",
        "  for data in trainloader:\n",
        "    model.zero_grad()\n",
        "    inputs, labels = data\n",
        "    inputs, labels = inputs.to('cuda'), labels.to('cuda')\n",
        "\n",
        "    preds = model(inputs)\n",
        "    loss = loss_fn(preds, labels)\n",
        "    loss.backward()\n",
        "    optimizer.step()\n",
        "\n",
        "    total_loss += loss.item()\n",
        "\n",
        "  train_sgd.append(accuracy(model, trainloader))\n",
        "\n",
        "  print(f\"Epoch {epoch + 1:3d} | Loss: {total_loss}\")"
      ],
      "metadata": {
        "colab": {
          "base_uri": "https://localhost:8080/"
        },
        "id": "ogF0IV_qDdgI",
        "outputId": "6d4a8e5f-2c47-4127-ec35-dcdff2ae1cbd"
      },
      "execution_count": 7,
      "outputs": [
        {
          "output_type": "stream",
          "name": "stdout",
          "text": [
            "Epoch   1 | Loss: 450.4045226573944\n",
            "Epoch   2 | Loss: 449.0586266517639\n",
            "Epoch   3 | Loss: 448.0405077934265\n",
            "Epoch   4 | Loss: 447.0964512825012\n",
            "Epoch   5 | Loss: 446.20172786712646\n",
            "Epoch   6 | Loss: 445.30300116539\n",
            "Epoch   7 | Loss: 444.4098813533783\n",
            "Epoch   8 | Loss: 443.5288259983063\n",
            "Epoch   9 | Loss: 442.6216654777527\n",
            "Epoch  10 | Loss: 441.7046711444855\n",
            "Epoch  11 | Loss: 440.76238203048706\n",
            "Epoch  12 | Loss: 439.8433952331543\n",
            "Epoch  13 | Loss: 438.8840100765228\n",
            "Epoch  14 | Loss: 437.93798637390137\n",
            "Epoch  15 | Loss: 437.0250930786133\n",
            "Epoch  16 | Loss: 436.1031196117401\n",
            "Epoch  17 | Loss: 435.19149136543274\n",
            "Epoch  18 | Loss: 434.29984641075134\n",
            "Epoch  19 | Loss: 433.4173731803894\n",
            "Epoch  20 | Loss: 432.5447633266449\n",
            "Epoch  21 | Loss: 431.70729207992554\n",
            "Epoch  22 | Loss: 430.87579798698425\n",
            "Epoch  23 | Loss: 430.1107220649719\n",
            "Epoch  24 | Loss: 429.2805438041687\n",
            "Epoch  25 | Loss: 428.5497291088104\n",
            "Epoch  26 | Loss: 427.82967138290405\n",
            "Epoch  27 | Loss: 427.1181924343109\n",
            "Epoch  28 | Loss: 426.3675158023834\n",
            "Epoch  29 | Loss: 425.6756401062012\n",
            "Epoch  30 | Loss: 425.0152952671051\n",
            "Epoch  31 | Loss: 424.35961508750916\n",
            "Epoch  32 | Loss: 423.71211767196655\n",
            "Epoch  33 | Loss: 423.1385645866394\n",
            "Epoch  34 | Loss: 422.15110993385315\n",
            "Epoch  35 | Loss: 420.9118525981903\n",
            "Epoch  36 | Loss: 419.55041456222534\n",
            "Epoch  37 | Loss: 417.78141355514526\n",
            "Epoch  38 | Loss: 416.26953864097595\n",
            "Epoch  39 | Loss: 414.9956693649292\n",
            "Epoch  40 | Loss: 413.8341419696808\n",
            "Epoch  41 | Loss: 412.62115836143494\n",
            "Epoch  42 | Loss: 411.5094063282013\n",
            "Epoch  43 | Loss: 410.4440824985504\n",
            "Epoch  44 | Loss: 409.4356256723404\n",
            "Epoch  45 | Loss: 408.611741065979\n",
            "Epoch  46 | Loss: 407.7459200620651\n",
            "Epoch  47 | Loss: 406.90264225006104\n",
            "Epoch  48 | Loss: 406.0527160167694\n",
            "Epoch  49 | Loss: 405.2782151699066\n",
            "Epoch  50 | Loss: 404.66717314720154\n"
          ]
        }
      ]
    },
    {
      "cell_type": "code",
      "source": [
        "# Adam\n",
        "model = Model1(32 * 32 * 3, 1024)\n",
        "model = model.to('cuda')\n",
        "\n",
        "optimizer = Adam(model.parameters(), lr=lr)\n",
        "\n",
        "train_adam = []\n",
        "test_adam = []\n",
        "\n",
        "for epoch in range(n_epochs):\n",
        "  total_loss = 0.\n",
        "  for data in trainloader:\n",
        "    model.zero_grad()\n",
        "    inputs, labels = data\n",
        "    inputs, labels = inputs.to('cuda'), labels.to('cuda')\n",
        "\n",
        "    preds = model(inputs)\n",
        "    loss = loss_fn(preds, labels)\n",
        "    loss.backward()\n",
        "    optimizer.step()\n",
        "\n",
        "    total_loss += loss.item()\n",
        "\n",
        "  train_adam.append(accuracy(model, trainloader))\n",
        "  test_adam.append(accuracy(model, testloader))\n",
        "\n",
        "  print(f\"Epoch {epoch + 1:3d} | Loss: {total_loss}\")"
      ],
      "metadata": {
        "colab": {
          "base_uri": "https://localhost:8080/"
        },
        "id": "cRKLyhUKED-I",
        "outputId": "c903d703-c33e-4ae3-a307-e66e1349fde4"
      },
      "execution_count": 8,
      "outputs": [
        {
          "output_type": "stream",
          "name": "stdout",
          "text": [
            "Epoch   1 | Loss: 433.4896969795227\n",
            "Epoch   2 | Loss: 390.33893036842346\n",
            "Epoch   3 | Loss: 369.4452873468399\n",
            "Epoch   4 | Loss: 355.2310997247696\n",
            "Epoch   5 | Loss: 341.5540466308594\n",
            "Epoch   6 | Loss: 331.4730248451233\n",
            "Epoch   7 | Loss: 322.9975094795227\n",
            "Epoch   8 | Loss: 314.8466362953186\n",
            "Epoch   9 | Loss: 309.5872938632965\n",
            "Epoch  10 | Loss: 303.4928412437439\n",
            "Epoch  11 | Loss: 297.29530823230743\n",
            "Epoch  12 | Loss: 292.3675493001938\n",
            "Epoch  13 | Loss: 288.5396535396576\n",
            "Epoch  14 | Loss: 285.63885486125946\n",
            "Epoch  15 | Loss: 281.4510723352432\n",
            "Epoch  16 | Loss: 277.96971666812897\n",
            "Epoch  17 | Loss: 273.5531288385391\n",
            "Epoch  18 | Loss: 269.6447511911392\n",
            "Epoch  19 | Loss: 270.4564517736435\n",
            "Epoch  20 | Loss: 264.0735641717911\n",
            "Epoch  21 | Loss: 262.4556999206543\n",
            "Epoch  22 | Loss: 257.89157378673553\n",
            "Epoch  23 | Loss: 254.87819123268127\n",
            "Epoch  24 | Loss: 251.5532364845276\n",
            "Epoch  25 | Loss: 248.21998476982117\n",
            "Epoch  26 | Loss: 245.35787153244019\n",
            "Epoch  27 | Loss: 241.84005498886108\n",
            "Epoch  28 | Loss: 239.83535742759705\n",
            "Epoch  29 | Loss: 236.8442908525467\n",
            "Epoch  30 | Loss: 232.51628005504608\n",
            "Epoch  31 | Loss: 232.0200964808464\n",
            "Epoch  32 | Loss: 226.5818720459938\n",
            "Epoch  33 | Loss: 226.77566748857498\n",
            "Epoch  34 | Loss: 220.84887474775314\n",
            "Epoch  35 | Loss: 218.63346129655838\n",
            "Epoch  36 | Loss: 219.8381523489952\n",
            "Epoch  37 | Loss: 213.18102407455444\n",
            "Epoch  38 | Loss: 209.33675092458725\n",
            "Epoch  39 | Loss: 208.14450126886368\n",
            "Epoch  40 | Loss: 205.13549357652664\n",
            "Epoch  41 | Loss: 201.67580449581146\n",
            "Epoch  42 | Loss: 205.11553519964218\n",
            "Epoch  43 | Loss: 195.6292917728424\n",
            "Epoch  44 | Loss: 193.648472905159\n",
            "Epoch  45 | Loss: 189.55045515298843\n",
            "Epoch  46 | Loss: 194.99214071035385\n",
            "Epoch  47 | Loss: 188.49646639823914\n",
            "Epoch  48 | Loss: 182.89385038614273\n",
            "Epoch  49 | Loss: 178.51961714029312\n",
            "Epoch  50 | Loss: 175.81860959529877\n"
          ]
        }
      ]
    },
    {
      "cell_type": "code",
      "source": [
        "plot_acc(train_sgd, train_adam, 'sgd', 'adam')"
      ],
      "metadata": {
        "colab": {
          "base_uri": "https://localhost:8080/",
          "height": 430
        },
        "id": "AgMktPjWEWCR",
        "outputId": "f25e1b10-01a7-4142-bade-e9366bd47947"
      },
      "execution_count": 9,
      "outputs": [
        {
          "output_type": "display_data",
          "data": {
            "text/plain": [
              "<Figure size 640x480 with 1 Axes>"
            ],
            "image/png": "[encoded data removed]"
          },
          "metadata": {}
        }
      ]
    },
    {
      "cell_type": "code",
      "source": [
        "class Model2(nn.Module):\n",
        "  def __init__(self, input_dim, n_dim):\n",
        "    super().__init__()\n",
        "\n",
        "    self.layer1 = nn.Linear(input_dim, n_dim)\n",
        "    self.layer2 = nn.Linear(n_dim, n_dim)\n",
        "    self.layer3 = nn.Linear(n_dim, 10)\n",
        "\n",
        "    self.act = nn.Sigmoid()\n",
        "\n",
        "  def forward(self, x):\n",
        "    x = torch.flatten(x, start_dim=1)\n",
        "    x = self.act(self.layer1(x))\n",
        "    x = self.act(self.layer2(x))\n",
        "    x = self.act(self.layer3(x))\n",
        "\n",
        "    return x"
      ],
      "metadata": {
        "id": "JcxZ_53UEg-K"
      },
      "execution_count": 10,
      "outputs": []
    },
    {
      "cell_type": "code",
      "source": [
        "model = Model2(32 * 32 * 3, 1024)\n",
        "model = model.to('cuda')\n",
        "\n",
        "optimizer = Adam(model.parameters(), lr=lr)\n",
        "\n",
        "train_sigmoid = []\n",
        "\n",
        "for epoch in range(n_epochs):\n",
        "  total_loss = 0.\n",
        "  for data in trainloader:\n",
        "    model.zero_grad()\n",
        "    inputs, labels = data\n",
        "    inputs, labels = inputs.to('cuda'), labels.to('cuda')\n",
        "\n",
        "    preds = model(inputs)\n",
        "    loss = loss_fn(preds, labels)\n",
        "    loss.backward()\n",
        "    optimizer.step()\n",
        "\n",
        "    total_loss += loss.item()\n",
        "\n",
        "  train_sigmoid.append(accuracy(model, trainloader))\n",
        "\n",
        "  print(f\"Epoch {epoch + 1:3d} | Loss: {total_loss}\")"
      ],
      "metadata": {
        "colab": {
          "base_uri": "https://localhost:8080/"
        },
        "id": "XuMCwbocEtGb",
        "outputId": "8b8a0ceb-eebb-419c-d1fe-6e59833edcd7"
      },
      "execution_count": 11,
      "outputs": [
        {
          "output_type": "stream",
          "name": "stdout",
          "text": [
            "Epoch   1 | Loss: 412.5045642852783\n",
            "Epoch   2 | Loss: 394.9716144800186\n",
            "Epoch   3 | Loss: 387.90719163417816\n",
            "Epoch   4 | Loss: 384.50316286087036\n",
            "Epoch   5 | Loss: 381.61452782154083\n",
            "Epoch   6 | Loss: 379.6166777610779\n",
            "Epoch   7 | Loss: 377.6350988149643\n",
            "Epoch   8 | Loss: 376.35867154598236\n",
            "Epoch   9 | Loss: 374.93286073207855\n",
            "Epoch  10 | Loss: 374.04091024398804\n",
            "Epoch  11 | Loss: 372.5460464954376\n",
            "Epoch  12 | Loss: 370.9470075368881\n",
            "Epoch  13 | Loss: 369.54847526550293\n",
            "Epoch  14 | Loss: 369.10587906837463\n",
            "Epoch  15 | Loss: 368.6109082698822\n",
            "Epoch  16 | Loss: 367.3367557525635\n",
            "Epoch  17 | Loss: 366.7210785150528\n",
            "Epoch  18 | Loss: 365.2409266233444\n",
            "Epoch  19 | Loss: 364.64610409736633\n",
            "Epoch  20 | Loss: 364.2317156791687\n",
            "Epoch  21 | Loss: 363.70606791973114\n",
            "Epoch  22 | Loss: 363.4606862068176\n",
            "Epoch  23 | Loss: 363.50152039527893\n",
            "Epoch  24 | Loss: 362.11492359638214\n",
            "Epoch  25 | Loss: 361.42935371398926\n",
            "Epoch  26 | Loss: 362.20627295970917\n",
            "Epoch  27 | Loss: 360.93858098983765\n",
            "Epoch  28 | Loss: 360.17622339725494\n",
            "Epoch  29 | Loss: 359.0544067621231\n",
            "Epoch  30 | Loss: 359.1922390460968\n",
            "Epoch  31 | Loss: 359.1660056114197\n",
            "Epoch  32 | Loss: 358.19960379600525\n",
            "Epoch  33 | Loss: 357.8003081083298\n",
            "Epoch  34 | Loss: 357.4754115343094\n",
            "Epoch  35 | Loss: 356.7801367044449\n",
            "Epoch  36 | Loss: 355.91646242141724\n",
            "Epoch  37 | Loss: 355.5303270816803\n",
            "Epoch  38 | Loss: 355.4659278392792\n",
            "Epoch  39 | Loss: 354.6411612033844\n",
            "Epoch  40 | Loss: 355.4938939809799\n",
            "Epoch  41 | Loss: 354.3607382774353\n",
            "Epoch  42 | Loss: 354.39499604701996\n",
            "Epoch  43 | Loss: 354.0738785266876\n",
            "Epoch  44 | Loss: 353.90274369716644\n",
            "Epoch  45 | Loss: 353.9325737953186\n",
            "Epoch  46 | Loss: 352.8401702642441\n",
            "Epoch  47 | Loss: 352.54803121089935\n",
            "Epoch  48 | Loss: 352.22600841522217\n",
            "Epoch  49 | Loss: 351.7329488992691\n",
            "Epoch  50 | Loss: 351.9049689769745\n"
          ]
        }
      ]
    },
    {
      "cell_type": "code",
      "source": [
        "plot_acc(train_adam, train_sigmoid, 'relu', 'sigmoid')"
      ],
      "metadata": {
        "colab": {
          "base_uri": "https://localhost:8080/",
          "height": 430
        },
        "id": "y9Znl_HDFAbs",
        "outputId": "fb719936-cf5a-4e64-aa61-cb2da54d2f2f"
      },
      "execution_count": 12,
      "outputs": [
        {
          "output_type": "display_data",
          "data": {
            "text/plain": [
              "<Figure size 640x480 with 1 Axes>"
            ],
            "image/png": "[encoded data removed]"
          },
          "metadata": {}
        }
      ]
    },
    {
      "cell_type": "code",
      "source": [
        "# Dropout\n",
        "\n",
        "class Model3(nn.Module):\n",
        "  def __init__(self, input_dim, n_dim):\n",
        "    super().__init__()\n",
        "\n",
        "    self.layer1 = nn.Linear(input_dim, n_dim)\n",
        "    self.layer2 = nn.Linear(n_dim, n_dim)\n",
        "    self.layer3 = nn.Linear(n_dim, 10)\n",
        "\n",
        "    self.act = nn.LeakyReLU()\n",
        "    self.dropout = nn.Dropout(p=0.1)\n",
        "\n",
        "  def forward(self, x):\n",
        "    x = torch.flatten(x, start_dim=1)\n",
        "    x = self.dropout(self.act(self.layer1(x)))\n",
        "    x = self.dropout(self.act(self.layer2(x)))\n",
        "    x = self.dropout(self.act(self.layer3(x)))\n",
        "\n",
        "    return x"
      ],
      "metadata": {
        "id": "chElXgcuFGi1"
      },
      "execution_count": 13,
      "outputs": []
    },
    {
      "cell_type": "code",
      "source": [
        "model = Model3(32 * 32 * 3, 1024)\n",
        "model = model.to('cuda')\n",
        "\n",
        "optimizer = Adam(model.parameters(), lr=lr)\n",
        "\n",
        "train_dropout = []\n",
        "test_dropout = []\n",
        "\n",
        "for epoch in range(n_epochs):\n",
        "  total_loss = 0.\n",
        "  model.train()\n",
        "  for data in trainloader:\n",
        "    model.zero_grad()\n",
        "    inputs, labels = data\n",
        "    inputs, labels = inputs.to('cuda'), labels.to('cuda')\n",
        "\n",
        "    preds = model(inputs)\n",
        "    loss = loss_fn(preds, labels)\n",
        "    loss.backward()\n",
        "    optimizer.step()\n",
        "\n",
        "    total_loss += loss.item()\n",
        "\n",
        "  with torch.no_grad():\n",
        "    model.eval()\n",
        "    train_dropout.append(accuracy(model, trainloader))\n",
        "    test_dropout.append(accuracy(model, testloader))\n",
        "\n",
        "  print(f\"Epoch {epoch + 1:3d} | Loss: {total_loss}\")"
      ],
      "metadata": {
        "colab": {
          "base_uri": "https://localhost:8080/"
        },
        "id": "x9a21qCSFiRE",
        "outputId": "67ed37da-0cb0-446c-f42e-02dbdd5f8c48"
      },
      "execution_count": 14,
      "outputs": [
        {
          "output_type": "stream",
          "name": "stdout",
          "text": [
            "Epoch   1 | Loss: 443.33205699920654\n",
            "Epoch   2 | Loss: 416.37329936027527\n",
            "Epoch   3 | Loss: 409.76876401901245\n",
            "Epoch   4 | Loss: 401.3984696865082\n",
            "Epoch   5 | Loss: 394.41143107414246\n",
            "Epoch   6 | Loss: 386.74635207653046\n",
            "Epoch   7 | Loss: 382.06774854660034\n",
            "Epoch   8 | Loss: 376.1190448999405\n",
            "Epoch   9 | Loss: 373.3229023218155\n",
            "Epoch  10 | Loss: 370.03384935855865\n",
            "Epoch  11 | Loss: 366.6791578531265\n",
            "Epoch  12 | Loss: 363.85041856765747\n",
            "Epoch  13 | Loss: 362.24943029880524\n",
            "Epoch  14 | Loss: 357.8862979412079\n",
            "Epoch  15 | Loss: 357.17891931533813\n",
            "Epoch  16 | Loss: 354.29233598709106\n",
            "Epoch  17 | Loss: 351.72179663181305\n",
            "Epoch  18 | Loss: 350.08059906959534\n",
            "Epoch  19 | Loss: 348.2064702510834\n",
            "Epoch  20 | Loss: 345.0237420797348\n",
            "Epoch  21 | Loss: 343.46079874038696\n",
            "Epoch  22 | Loss: 342.6810677051544\n",
            "Epoch  23 | Loss: 340.2572635412216\n",
            "Epoch  24 | Loss: 337.6000258922577\n",
            "Epoch  25 | Loss: 338.62475538253784\n",
            "Epoch  26 | Loss: 335.98020565509796\n",
            "Epoch  27 | Loss: 334.34732365608215\n",
            "Epoch  28 | Loss: 330.7352406978607\n",
            "Epoch  29 | Loss: 332.7153890132904\n",
            "Epoch  30 | Loss: 331.31232726573944\n",
            "Epoch  31 | Loss: 327.896524310112\n",
            "Epoch  32 | Loss: 327.09470558166504\n",
            "Epoch  33 | Loss: 325.08979749679565\n",
            "Epoch  34 | Loss: 325.1326631307602\n",
            "Epoch  35 | Loss: 322.80666410923004\n",
            "Epoch  36 | Loss: 322.0609897375107\n",
            "Epoch  37 | Loss: 320.41855931282043\n",
            "Epoch  38 | Loss: 319.107696890831\n",
            "Epoch  39 | Loss: 318.59042501449585\n",
            "Epoch  40 | Loss: 318.0283589363098\n",
            "Epoch  41 | Loss: 315.68807768821716\n",
            "Epoch  42 | Loss: 316.346791267395\n",
            "Epoch  43 | Loss: 313.48034954071045\n",
            "Epoch  44 | Loss: 312.8043259382248\n",
            "Epoch  45 | Loss: 312.34322571754456\n",
            "Epoch  46 | Loss: 311.0418244600296\n",
            "Epoch  47 | Loss: 311.4994111061096\n",
            "Epoch  48 | Loss: 310.259947180748\n",
            "Epoch  49 | Loss: 306.17666506767273\n",
            "Epoch  50 | Loss: 309.2669857740402\n"
          ]
        }
      ]
    },
    {
      "cell_type": "code",
      "source": [
        "plot_acc(train_dropout, test_dropout)"
      ],
      "metadata": {
        "colab": {
          "base_uri": "https://localhost:8080/",
          "height": 430
        },
        "id": "n95guexUFz7j",
        "outputId": "37fff6ac-ac1c-4993-9bb5-cb61b0df40a7"
      },
      "execution_count": 15,
      "outputs": [
        {
          "output_type": "display_data",
          "data": {
            "text/plain": [
              "<Figure size 640x480 with 1 Axes>"
            ],
            "image/png": "[encoded data removed]"
          },
          "metadata": {}
        }
      ]
    }
  ]
}
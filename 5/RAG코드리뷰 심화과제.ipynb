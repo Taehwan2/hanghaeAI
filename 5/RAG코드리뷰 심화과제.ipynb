{
  "nbformat": 4,
  "nbformat_minor": 0,
  "metadata": {
    "colab": {
      "provenance": [],
      "include_colab_link": true
    },
    "kernelspec": {
      "name": "python3",
      "display_name": "Python 3"
    },
    "language_info": {
      "name": "python"
    }
  },
  "cells": [
    {
      "cell_type": "markdown",
      "metadata": {
        "id": "view-in-github",
        "colab_type": "text"
      },
      "source": [
        "<a href=\"https://colab.research.google.com/github/Taehwan2/hanghaeAI/blob/main/RAG%EC%BD%94%EB%93%9C%EB%A6%AC%EB%B7%B0%20%EC%8B%AC%ED%99%94%EA%B0%80%EC%A0%9C.ipynb\" target=\"_parent\"><img src=\"https://colab.research.google.com/assets/colab-badge.svg\" alt=\"Open In Colab\"/></a>"
      ]
    },
    {
      "cell_type": "code",
      "execution_count": null,
      "metadata": {
        "id": "TwaANvAGIwl4"
      },
      "outputs": [],
      "source": [
        "!pip install langchain-community langchain-chroma langchain-openai bs4"
      ]
    },
    {
      "cell_type": "code",
      "source": [
        "import bs4\n",
        "from langchain import hub\n",
        "from langchain_chroma import Chroma\n",
        "from langchain_openai import ChatOpenAI\n",
        "from langchain_openai import OpenAIEmbeddings\n",
        "from langchain_community.document_loaders import WebBaseLoader\n",
        "from langchain_text_splitters import RecursiveCharacterTextSplitter"
      ],
      "metadata": {
        "id": "lrlcWNMyI0HQ"
      },
      "execution_count": 35,
      "outputs": []
    },
    {
      "cell_type": "code",
      "source": [
        "llm = ChatOpenAI(model=\"gpt-4o-mini\", api_key=OPENAI_API_KEY)"
      ],
      "metadata": {
        "id": "gdjtGqsgI2Ub"
      },
      "execution_count": 36,
      "outputs": []
    },
    {
      "cell_type": "code",
      "source": [
        "import requests\n",
        "from langchain.schema import Document\n",
        "# Raw 파일 주소로 변경 (blob -> raw.githubusercontent.com)\n",
        "url = \"https://raw.githubusercontent.com/Taehwan2/ConcertReservation/main/concert/concert/src/main/java/com/example/concert/domain/concertdetail/service/ConcertDetailService.java\"\n",
        "\n",
        "code_text = requests.get(url).text\n",
        "dosc = [Document(page_content=code_text)]\n",
        "print(dosc)\n",
        "\n"
      ],
      "metadata": {
        "id": "qhuzvEYGI4Yq",
        "outputId": "6c5d0aea-f675-411f-eab8-b0d0acd9a755",
        "colab": {
          "base_uri": "https://localhost:8080/"
        }
      },
      "execution_count": 42,
      "outputs": [
        {
          "output_type": "stream",
          "name": "stdout",
          "text": [
            "[Document(metadata={}, page_content='package com.example.concert.domain.concertdetail.service;\\n\\nimport com.example.concert.Presentation.concert.model.concert.ConcertDetailReq;\\nimport com.example.concert.Presentation.concert.model.concert.ConcertReq;\\nimport com.example.concert.domain.concert.entity.Concert;\\nimport com.example.concert.domain.concertdetail.entity.ConcertDetail;\\nimport lombok.RequiredArgsConstructor;\\nimport org.springframework.cache.annotation.CacheEvict;\\nimport org.springframework.cache.annotation.CachePut;\\nimport org.springframework.cache.annotation.Cacheable;\\nimport org.springframework.stereotype.Service;\\n\\nimport java.util.List;\\n\\n@Service\\n@RequiredArgsConstructor\\npublic class ConcertDetailService {\\n    private final ConcertDetailRepository concertDetailRepository;\\n\\n   //콘서트 옵션을 저장하는 코드\\n    public ConcertDetail saveConcertDetail(ConcertDetail concertDetail){\\n        return concertDetailRepository.saveConcertDetail(concertDetail);\\n    }\\n\\n    //cache 로 hit를 한다면 캐시서버에서 데이터를 가져오고 hit하지 못한다면 데이터를 DB에서 끌고온다..\\n    //이 부분을 Cache로 사용한 이유는 콘서트 옵션 정보는 자주 바뀌는 정보가 아니기 때문이다..\\n    @Cacheable(value = \"concertDetail\", key = \"#concertDetailId\")\\n\\n    public ConcertDetail getConcertDetail(Long concertDetailId){\\n\\n        return concertDetailRepository.getConcert(concertDetailId);\\n\\n    }\\n\\n    //콘서트에서 예약가능한 날짜를 가져오는 콘서트 옵션의 서비스\\n    public List<ConcertDetail> getAbleDates(Long concertId) {\\n        return concertDetailRepository.getAbleDates(concertId);\\n    }\\n\\n    //만약 콘서트의 정보가 지워질 경우에는 Cache를 삭제하는 로직을 담고있다..\\n    //콘서트의 정보가 없다면 캐시가 남아있다면 큰 오류사항이기 때문이다..\\n    @CacheEvict(value = \"concertDetail\", key = \"#concertDetailId\")\\n    public void deleteConcertDetail(Long concertDetailId){\\n\\n        concertDetailRepository.deleteConcertDetail(concertDetailId);\\n\\n    }\\n    //콘서트 옵션정보가 바뀌면 캐시가 삭제되는것이 맞으나 콘서트 옵션 정보가 삭제되는 것이 아니라 바뀌는것이므로.\\n    //콘서트 옵션 정보가 바뀌면 기존 캐시를 갱신해준다..\\n    @CachePut(value=\"concertDetail\",key = \"#concertDetailId\")\\n\\n    public ConcertDetail updateConcert(Long concertDetailId, ConcertDetailReq concertDetailReq) {\\n\\n        var findConcertDetail = getConcertDetail(concertDetailId);\\n\\n        findConcertDetail.setReservationStartDate(concertDetailReq.getReservationStartDate());\\n\\n        findConcertDetail.setStartDate(concertDetailReq.getStartDate());\\n\\n        return saveConcertDetail(findConcertDetail);\\n    }\\n}\\n')]\n"
          ]
        }
      ]
    },
    {
      "cell_type": "code",
      "source": [
        "text_splitter = RecursiveCharacterTextSplitter(\n",
        "    chunk_size=1000,\n",
        "    chunk_overlap=200\n",
        ")\n",
        "splits = text_splitter.split_documents(dosc)\n",
        "vectorstore = Chroma.from_documents(\n",
        "    documents=splits,\n",
        "    embedding=OpenAIEmbeddings(api_key=OPENAI_API_KEY)\n",
        ")"
      ],
      "metadata": {
        "id": "ewqNBMS_I7zB"
      },
      "execution_count": 43,
      "outputs": []
    },
    {
      "cell_type": "code",
      "source": [
        "retriever = vectorstore.as_retriever()\n",
        "\n",
        "user_msg = \"You are the best backend developer at Google give me code reivew\"\n",
        "retrieved_docs = retriever.invoke(user_msg)\n",
        "\n",
        "def format_docs(docs):\n",
        "    return \"\\n\\n\".join(doc.page_content for doc in docs)\n",
        "prompt = hub.pull(\"rlm/rag-prompt\")\n",
        "\n",
        "user_prompt = prompt.invoke({\"context\": format_docs(retrieved_docs), \"question\": user_msg})\n",
        "print(user_prompt)"
      ],
      "metadata": {
        "colab": {
          "base_uri": "https://localhost:8080/"
        },
        "id": "dKwUiRrPJMq1",
        "outputId": "18fc4c92-57b2-4e7e-9532-c93ae199e052"
      },
      "execution_count": 44,
      "outputs": [
        {
          "output_type": "stream",
          "name": "stderr",
          "text": [
            "WARNING:chromadb.segment.impl.vector.local_hnsw:Number of requested results 4 is greater than number of elements in index 3, updating n_results = 3\n",
            "/usr/local/lib/python3.11/dist-packages/langsmith/client.py:280: LangSmithMissingAPIKeyWarning: API key must be provided when using hosted LangSmith API\n",
            "  warnings.warn(\n"
          ]
        },
        {
          "output_type": "stream",
          "name": "stdout",
          "text": [
            "messages=[HumanMessage(content='You are an assistant for question-answering tasks. Use the following pieces of retrieved context to answer the question. If you don\\'t know the answer, just say that you don\\'t know. Use three sentences maximum and keep the answer concise.\\nQuestion: You are the best backend developer at Google give me code reivew \\nContext: package com.example.concert.domain.concertdetail.service;\\n\\nimport com.example.concert.Presentation.concert.model.concert.ConcertDetailReq;\\nimport com.example.concert.Presentation.concert.model.concert.ConcertReq;\\nimport com.example.concert.domain.concert.entity.Concert;\\nimport com.example.concert.domain.concertdetail.entity.ConcertDetail;\\nimport lombok.RequiredArgsConstructor;\\nimport org.springframework.cache.annotation.CacheEvict;\\nimport org.springframework.cache.annotation.CachePut;\\nimport org.springframework.cache.annotation.Cacheable;\\nimport org.springframework.stereotype.Service;\\n\\nimport java.util.List;\\n\\n@Service\\n@RequiredArgsConstructor\\npublic class ConcertDetailService {\\n    private final ConcertDetailRepository concertDetailRepository;\\n\\n   //콘서트 옵션을 저장하는 코드\\n    public ConcertDetail saveConcertDetail(ConcertDetail concertDetail){\\n        return concertDetailRepository.saveConcertDetail(concertDetail);\\n    }\\n\\n//콘서트 옵션을 저장하는 코드\\n    public ConcertDetail saveConcertDetail(ConcertDetail concertDetail){\\n        return concertDetailRepository.saveConcertDetail(concertDetail);\\n    }\\n\\n    //cache 로 hit를 한다면 캐시서버에서 데이터를 가져오고 hit하지 못한다면 데이터를 DB에서 끌고온다..\\n    //이 부분을 Cache로 사용한 이유는 콘서트 옵션 정보는 자주 바뀌는 정보가 아니기 때문이다..\\n    @Cacheable(value = \"concertDetail\", key = \"#concertDetailId\")\\n\\n    public ConcertDetail getConcertDetail(Long concertDetailId){\\n\\n        return concertDetailRepository.getConcert(concertDetailId);\\n\\n    }\\n\\n    //콘서트에서 예약가능한 날짜를 가져오는 콘서트 옵션의 서비스\\n    public List<ConcertDetail> getAbleDates(Long concertId) {\\n        return concertDetailRepository.getAbleDates(concertId);\\n    }\\n\\n    //만약 콘서트의 정보가 지워질 경우에는 Cache를 삭제하는 로직을 담고있다..\\n    //콘서트의 정보가 없다면 캐시가 남아있다면 큰 오류사항이기 때문이다..\\n    @CacheEvict(value = \"concertDetail\", key = \"#concertDetailId\")\\n    public void deleteConcertDetail(Long concertDetailId){\\n\\n        concertDetailRepository.deleteConcertDetail(concertDetailId);\\n\\nconcertDetailRepository.deleteConcertDetail(concertDetailId);\\n\\n    }\\n    //콘서트 옵션정보가 바뀌면 캐시가 삭제되는것이 맞으나 콘서트 옵션 정보가 삭제되는 것이 아니라 바뀌는것이므로.\\n    //콘서트 옵션 정보가 바뀌면 기존 캐시를 갱신해준다..\\n    @CachePut(value=\"concertDetail\",key = \"#concertDetailId\")\\n\\n    public ConcertDetail updateConcert(Long concertDetailId, ConcertDetailReq concertDetailReq) {\\n\\n        var findConcertDetail = getConcertDetail(concertDetailId);\\n\\n        findConcertDetail.setReservationStartDate(concertDetailReq.getReservationStartDate());\\n\\n        findConcertDetail.setStartDate(concertDetailReq.getStartDate());\\n\\n        return saveConcertDetail(findConcertDetail);\\n    }\\n} \\nAnswer:', additional_kwargs={}, response_metadata={})]\n"
          ]
        }
      ]
    },
    {
      "cell_type": "code",
      "source": [
        "response = llm.invoke(user_prompt)\n",
        "print(response.content)"
      ],
      "metadata": {
        "colab": {
          "base_uri": "https://localhost:8080/"
        },
        "id": "bqHKsIyUJc_m",
        "outputId": "d66de492-8695-4dfb-a0ef-6b9bb1b57053"
      },
      "execution_count": 45,
      "outputs": [
        {
          "output_type": "stream",
          "name": "stdout",
          "text": [
            "The code contains a duplicate method `saveConcertDetail` which should be removed to avoid redundancy. Additionally, make sure the method names clearly reflect their functionality; using \"save\" for both adding and updating concert details can be misleading. Finally, ensure that all methods properly handle potential exceptions, especially for database operations.\n"
          ]
        }
      ]
    },
    {
      "cell_type": "code",
      "source": [],
      "metadata": {
        "id": "pSXxCzCNJfIO"
      },
      "execution_count": null,
      "outputs": []
    }
  ]
}

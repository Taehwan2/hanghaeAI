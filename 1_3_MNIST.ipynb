{
  "nbformat": 4,
  "nbformat_minor": 0,
  "metadata": {
    "colab": {
      "provenance": [],
      "gpuType": "T4",
      "include_colab_link": true
    },
    "kernelspec": {
      "name": "python3",
      "display_name": "Python 3"
    },
    "language_info": {
      "name": "python"
    },
    "accelerator": "GPU"
  },
  "cells": [
    {
      "cell_type": "markdown",
      "metadata": {
        "id": "view-in-github",
        "colab_type": "text"
      },
      "source": [
        "<a href=\"https://colab.research.google.com/github/Taehwan2/hanghaeAI/blob/main/1_3_MNIST.ipynb\" target=\"_parent\"><img src=\"https://colab.research.google.com/assets/colab-badge.svg\" alt=\"Open In Colab\"/></a>"
      ]
    },
    {
      "cell_type": "markdown",
      "source": [
        "# MNIST 실습\n",
        "\n",
        "이번에는 28x28 흑백 손글씨 이미지를 보고 0~9 사이의 숫자 중 어떤 숫자를 쓴 것인지 예측하는 문제를 실습합니다.\n",
        "이번 실습에서는 GPU를 활용할 것이기 때문에, 이전 챕터에서 Colab에서 GPU를 설정하는 방법을 따라해주시길 바랍니다.\n",
        "\n",
        "GPU를 설정했으면 library들을 import합니다."
      ],
      "metadata": {
        "id": "OPJenlrhihrh"
      }
    },
    {
      "cell_type": "code",
      "execution_count": 1,
      "metadata": {
        "id": "6lXVfXoDtoQh"
      },
      "outputs": [],
      "source": [
        "import torch\n",
        "import torchvision\n",
        "import torchvision.transforms as transforms"
      ]
    },
    {
      "cell_type": "markdown",
      "source": [
        "다음은 dataset을 준비합니다. 손글씨 dataset은 MNIST라는 유명한 dataset이 있습니다. 이 dataset은 `torchvision`에서 제공하고 있으며, 다음과 같이 다운로드 받을 수 있습니다."
      ],
      "metadata": {
        "id": "pF-1zQvmiult"
      }
    },
    {
      "cell_type": "code",
      "source": [
        "import numpy as np\n",
        "import matplotlib.pyplot as plt\n",
        "\n",
        "\n",
        "def accuracy(model, dataloader):\n",
        "  cnt = 0\n",
        "  acc = 0\n",
        "\n",
        "  for data in dataloader:\n",
        "    inputs, labels = data\n",
        "    inputs, labels = inputs.to('cuda'), labels.to('cuda')\n",
        "\n",
        "    preds = model(inputs)\n",
        "    preds = torch.argmax(preds, dim=-1)\n",
        "\n",
        "    cnt += labels.shape[0]\n",
        "    acc += (labels == preds).sum().item()\n",
        "\n",
        "  return acc / cnt\n",
        "\n",
        "\n",
        "  ## 제출자료\n",
        "def plot_acc(train_accs, test_accs, label1='train', label2='test'):\n",
        "  x = np.arange(len(train_accs))\n",
        "\n",
        "  plt.plot(x, train_accs, label=label1)\n",
        "  plt.plot(x, test_accs, label=label2)\n",
        "  plt.legend()\n",
        "  plt.show()"
      ],
      "metadata": {
        "id": "MWXCnIzmKZbb"
      },
      "execution_count": 12,
      "outputs": []
    },
    {
      "cell_type": "code",
      "source": [
        "transform = transforms.ToTensor()\n",
        "\n",
        "trainset = torchvision.datasets.MNIST(\n",
        "    root='./data',\n",
        "    train=True,\n",
        "    download=True,\n",
        "    transform=transform\n",
        ")\n",
        "\n",
        "testset = torchvision.datasets.MNIST(\n",
        "    root='./data',\n",
        "    train=False,\n",
        "    download=True,\n",
        "    transform=transform\n",
        ")"
      ],
      "metadata": {
        "id": "KAYlqPaRt6ti",
        "colab": {
          "base_uri": "https://localhost:8080/"
        },
        "outputId": "832e0347-ed03-480d-980a-829a0fd66443"
      },
      "execution_count": 3,
      "outputs": [
        {
          "output_type": "stream",
          "name": "stderr",
          "text": [
            "100%|██████████| 9.91M/9.91M [00:00<00:00, 17.6MB/s]\n",
            "100%|██████████| 28.9k/28.9k [00:00<00:00, 470kB/s]\n",
            "100%|██████████| 1.65M/1.65M [00:00<00:00, 4.34MB/s]\n",
            "100%|██████████| 4.54k/4.54k [00:00<00:00, 7.18MB/s]\n"
          ]
        }
      ]
    },
    {
      "cell_type": "code",
      "source": [
        "batch_size = 64\n",
        "\n",
        "trainloader = torch.utils.data.DataLoader(\n",
        "    trainset,\n",
        "    batch_size=batch_size,\n",
        "    shuffle=True\n",
        ")\n",
        "\n",
        "testloader = torch.utils.data.DataLoader(\n",
        "    testset,\n",
        "    batch_size=batch_size,\n",
        "    shuffle=False\n",
        ")"
      ],
      "metadata": {
        "id": "UxKu3kA2i5WH"
      },
      "execution_count": 4,
      "outputs": []
    },
    {
      "cell_type": "code",
      "source": [
        "from torch import nn\n",
        "\n",
        "\n",
        "class Model(nn.Module):\n",
        "  def __init__(self, input_dim, n_dim):\n",
        "    super().__init__()\n",
        "\n",
        "    self.layer1 = nn.Linear(input_dim, n_dim)\n",
        "    self.layer2 = nn.Linear(n_dim, n_dim)\n",
        "    self.layer3 = nn.Linear(n_dim, 10)\n",
        "\n",
        "    self.act = nn.ReLU()\n",
        "\n",
        "  def forward(self, x):\n",
        "    x = torch.flatten(x, start_dim=1)\n",
        "    x = self.act(self.layer1(x))\n",
        "    x = self.act(self.layer2(x))\n",
        "    x = self.act(self.layer3(x))\n",
        "\n",
        "    return x\n",
        "\n",
        "\n",
        "model = Model(28 * 28 * 1, 1024)"
      ],
      "metadata": {
        "id": "OLOA-ZGTuVVG"
      },
      "execution_count": 5,
      "outputs": []
    },
    {
      "cell_type": "code",
      "source": [
        "from torch.optim import SGD\n",
        "\n",
        "lr = 0.001\n",
        "model = model.to('cuda')\n",
        "\n",
        "optimizer = SGD(model.parameters(), lr=lr)"
      ],
      "metadata": {
        "id": "ypS0TcOlvBhZ"
      },
      "execution_count": 6,
      "outputs": []
    },
    {
      "cell_type": "code",
      "source": [
        "n_epochs = 100\n",
        "loss_f = nn.CrossEntropyLoss()\n",
        "\n",
        "train_accs = []\n",
        "test_accs = []\n",
        "\n",
        "for epoch in range(n_epochs):\n",
        "  total_loss = 0.\n",
        "  for data in trainloader:\n",
        "    model.zero_grad()\n",
        "    inputs, labels = data\n",
        "    inputs, labels = inputs.to('cuda'), labels.to('cuda')\n",
        "\n",
        "    preds = model(inputs)\n",
        "    loss = loss_f(preds,labels)\n",
        "    loss.backward()\n",
        "    optimizer.step()\n",
        "\n",
        "    total_loss += loss.item()\n",
        "  train_accs.append(accuracy(model,trainloader))\n",
        "  test_accs.append(accuracy(model,testloader))\n",
        "  print(f\"Epoch {epoch:3d} | Loss: {total_loss}\")"
      ],
      "metadata": {
        "colab": {
          "base_uri": "https://localhost:8080/"
        },
        "id": "TryX1hewvNiB",
        "outputId": "2724b9b9-f446-4937-a31b-67fac3ef1825"
      },
      "execution_count": 7,
      "outputs": [
        {
          "output_type": "stream",
          "name": "stdout",
          "text": [
            "Epoch   0 | Loss: 2143.3254244327545\n",
            "Epoch   1 | Loss: 2095.021741628647\n",
            "Epoch   2 | Loss: 2013.6324443817139\n",
            "Epoch   3 | Loss: 1882.1834948062897\n",
            "Epoch   4 | Loss: 1677.8840899467468\n",
            "Epoch   5 | Loss: 1424.5303146839142\n",
            "Epoch   6 | Loss: 1198.59733325243\n",
            "Epoch   7 | Loss: 1039.3264940977097\n",
            "Epoch   8 | Loss: 932.0208647847176\n",
            "Epoch   9 | Loss: 855.9812100529671\n",
            "Epoch  10 | Loss: 798.8989485502243\n",
            "Epoch  11 | Loss: 754.0262841880322\n",
            "Epoch  12 | Loss: 718.117290019989\n",
            "Epoch  13 | Loss: 688.8292039334774\n",
            "Epoch  14 | Loss: 664.6242877244949\n",
            "Epoch  15 | Loss: 644.2099571824074\n",
            "Epoch  16 | Loss: 626.7593925893307\n",
            "Epoch  17 | Loss: 611.9264690577984\n",
            "Epoch  18 | Loss: 598.9736837744713\n",
            "Epoch  19 | Loss: 587.6267790198326\n",
            "Epoch  20 | Loss: 577.6540677547455\n",
            "Epoch  21 | Loss: 568.7689377963543\n",
            "Epoch  22 | Loss: 560.7593844980001\n",
            "Epoch  23 | Loss: 553.4967008382082\n",
            "Epoch  24 | Loss: 546.8906198889017\n",
            "Epoch  25 | Loss: 540.960163757205\n",
            "Epoch  26 | Loss: 535.4080660045147\n",
            "Epoch  27 | Loss: 530.1922950595617\n",
            "Epoch  28 | Loss: 525.5777524411678\n",
            "Epoch  29 | Loss: 521.4231743067503\n",
            "Epoch  30 | Loss: 516.8829174488783\n",
            "Epoch  31 | Loss: 512.9963097274303\n",
            "Epoch  32 | Loss: 509.49947510659695\n",
            "Epoch  33 | Loss: 505.95654349029064\n",
            "Epoch  34 | Loss: 502.629688128829\n",
            "Epoch  35 | Loss: 499.34178836643696\n",
            "Epoch  36 | Loss: 496.4818324521184\n",
            "Epoch  37 | Loss: 493.42592503130436\n",
            "Epoch  38 | Loss: 490.91982911527157\n",
            "Epoch  39 | Loss: 488.246096894145\n",
            "Epoch  40 | Loss: 485.59555345773697\n",
            "Epoch  41 | Loss: 483.08020354807377\n",
            "Epoch  42 | Loss: 480.6910697519779\n",
            "Epoch  43 | Loss: 478.5732153952122\n",
            "Epoch  44 | Loss: 476.1651339828968\n",
            "Epoch  45 | Loss: 474.0826225876808\n",
            "Epoch  46 | Loss: 471.9716005474329\n",
            "Epoch  47 | Loss: 469.7304205149412\n",
            "Epoch  48 | Loss: 467.9994646310806\n",
            "Epoch  49 | Loss: 465.6199588775635\n",
            "Epoch  50 | Loss: 463.7576349377632\n",
            "Epoch  51 | Loss: 462.11819872260094\n",
            "Epoch  52 | Loss: 460.22182935476303\n",
            "Epoch  53 | Loss: 458.2912639081478\n",
            "Epoch  54 | Loss: 456.41400422155857\n",
            "Epoch  55 | Loss: 454.92159697413445\n",
            "Epoch  56 | Loss: 452.88373966515064\n",
            "Epoch  57 | Loss: 451.27115847170353\n",
            "Epoch  58 | Loss: 449.947549238801\n",
            "Epoch  59 | Loss: 448.14426885545254\n",
            "Epoch  60 | Loss: 446.5189438313246\n",
            "Epoch  61 | Loss: 445.03073886036873\n",
            "Epoch  62 | Loss: 443.43670688569546\n",
            "Epoch  63 | Loss: 441.88337817788124\n",
            "Epoch  64 | Loss: 440.39880146086216\n",
            "Epoch  65 | Loss: 438.9040938317776\n",
            "Epoch  66 | Loss: 437.55570159852505\n",
            "Epoch  67 | Loss: 435.9574356675148\n",
            "Epoch  68 | Loss: 434.593251734972\n",
            "Epoch  69 | Loss: 433.1187249869108\n",
            "Epoch  70 | Loss: 431.83629624545574\n",
            "Epoch  71 | Loss: 430.62708899378777\n",
            "Epoch  72 | Loss: 429.17118196189404\n",
            "Epoch  73 | Loss: 427.80918061733246\n",
            "Epoch  74 | Loss: 426.5473809540272\n",
            "Epoch  75 | Loss: 425.27163733541965\n",
            "Epoch  76 | Loss: 423.91433857381344\n",
            "Epoch  77 | Loss: 422.81475741416216\n",
            "Epoch  78 | Loss: 421.3729944527149\n",
            "Epoch  79 | Loss: 420.02882377803326\n",
            "Epoch  80 | Loss: 418.97242764383554\n",
            "Epoch  81 | Loss: 417.60435117036104\n",
            "Epoch  82 | Loss: 416.54096238315105\n",
            "Epoch  83 | Loss: 415.31158412992954\n",
            "Epoch  84 | Loss: 413.93478210270405\n",
            "Epoch  85 | Loss: 412.86819329857826\n",
            "Epoch  86 | Loss: 411.7881130427122\n",
            "Epoch  87 | Loss: 410.6404919549823\n",
            "Epoch  88 | Loss: 409.47718638181686\n",
            "Epoch  89 | Loss: 408.1652874648571\n",
            "Epoch  90 | Loss: 407.1877365708351\n",
            "Epoch  91 | Loss: 406.06078135967255\n",
            "Epoch  92 | Loss: 404.88154047727585\n",
            "Epoch  93 | Loss: 403.97137901932\n",
            "Epoch  94 | Loss: 402.7256848812103\n",
            "Epoch  95 | Loss: 401.898454323411\n",
            "Epoch  96 | Loss: 400.551482796669\n",
            "Epoch  97 | Loss: 399.5983207821846\n",
            "Epoch  98 | Loss: 398.4635929018259\n",
            "Epoch  99 | Loss: 397.582859814167\n"
          ]
        }
      ]
    },
    {
      "cell_type": "code",
      "source": [
        "print(accuracy(model, trainloader))\n",
        "print(accuracy(model, testloader))"
      ],
      "metadata": {
        "id": "VN7siowKN72o",
        "outputId": "89a6c2d8-3be3-4cfb-e790-86933b2fd7e0",
        "colab": {
          "base_uri": "https://localhost:8080/"
        }
      },
      "execution_count": 8,
      "outputs": [
        {
          "output_type": "stream",
          "name": "stdout",
          "text": [
            "0.8557333333333333\n",
            "0.856\n"
          ]
        }
      ]
    },
    {
      "cell_type": "code",
      "source": [
        "plot_acc(train_accs, test_accs)"
      ],
      "metadata": {
        "id": "d6M4SpWQoML9",
        "outputId": "59b99c83-9e02-44a1-d4ed-2ccc65969142",
        "colab": {
          "base_uri": "https://localhost:8080/",
          "height": 430
        }
      },
      "execution_count": 13,
      "outputs": [
        {
          "output_type": "display_data",
          "data": {
            "text/plain": [
              "<Figure size 640x480 with 1 Axes>"
            ],
            "image/png": "[encoded data removed]"
          },
          "metadata": {}
        }
      ]
    }
  ]
}
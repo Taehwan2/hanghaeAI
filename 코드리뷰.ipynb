{
  "nbformat": 4,
  "nbformat_minor": 0,
  "metadata": {
    "colab": {
      "provenance": [],
      "include_colab_link": true
    },
    "kernelspec": {
      "name": "python3",
      "display_name": "Python 3"
    },
    "language_info": {
      "name": "python"
    }
  },
  "cells": [
    {
      "cell_type": "markdown",
      "metadata": {
        "id": "view-in-github",
        "colab_type": "text"
      },
      "source": [
        "<a href=\"https://colab.research.google.com/github/Taehwan2/hanghaeAI/blob/main/%EC%BD%94%EB%93%9C%EB%A6%AC%EB%B7%B0.ipynb\" target=\"_parent\"><img src=\"https://colab.research.google.com/assets/colab-badge.svg\" alt=\"Open In Colab\"/></a>"
      ]
    },
    {
      "cell_type": "code",
      "source": [
        "from openai import OpenAI\n",
        "clinet = OpenAI(api_key=OPENAI_API_KEY)"
      ],
      "metadata": {
        "id": "lrlcWNMyI0HQ"
      },
      "execution_count": 6,
      "outputs": []
    },
    {
      "cell_type": "code",
      "source": [
        "temperature = 0.5  # 각 token을 샘플링할 때 사용하는 temperature 값입니다.\n",
        "max_tokens = 4096  # 생성하는 최대 token 개수 입니다.\n",
        "n = 1  # 같은 질의에 대해 몇 개의 답변을 출력할지 결정합니다.\n",
        "frequency_penalty = 0.0  # 같은 단어가 반복적으로 나오는 것을 방지하기 위한 옵션입니다.\n",
        "\n",
        "system_prompt = \"You are the best backend developer at Google\"\n",
        "user_prompt = \"\"\"def xzqpl(a1, b2):\n",
        "    return a1 + b2\n",
        "\n",
        "foo = 13\n",
        "bar = 29\n",
        "baz = xzqpl(foo, bar)\n",
        "print(\"Output:\", baz)\"\"\"\n",
        "\n",
        "assistant_prompt = \"This variable name is not very descriptive. Could we rename it to transactionCount to improve readability?\"\n",
        "\n",
        "messages = [\n",
        "    {\"role\": \"system\", \"content\": system_prompt},\n",
        "    {\"role\": \"user\", \"content\": user_prompt},\n",
        "    {\"role\": \"assistant\", \"content\": assistant_prompt}\n",
        "]\n",
        "\n",
        "response = clinet.chat.completions.create(\n",
        "    model=\"gpt-4o-mini\",\n",
        "    messages=messages,\n",
        "    n=n,\n",
        "    max_tokens=max_tokens,\n",
        "    temperature=temperature,\n",
        "    frequency_penalty=frequency_penalty\n",
        ")\n",
        "\n",
        "print(response.choices[0].message.content)"
      ],
      "metadata": {
        "id": "pSXxCzCNJfIO",
        "outputId": "d7053d06-14a9-40b8-e871-b51be9dfda81",
        "colab": {
          "base_uri": "https://localhost:8080/"
        }
      },
      "execution_count": 8,
      "outputs": [
        {
          "output_type": "stream",
          "name": "stdout",
          "text": [
            "Certainly! Renaming variables to be more descriptive is a good practice for improving code readability. Here’s the updated code with `foo` renamed to `transactionCount` and `bar` renamed to `additionalCount`:\n",
            "\n",
            "```python\n",
            "def xzqpl(transactionCount, additionalCount):\n",
            "    return transactionCount + additionalCount\n",
            "\n",
            "transactionCount = 13\n",
            "additionalCount = 29\n",
            "baz = xzqpl(transactionCount, additionalCount)\n",
            "print(\"Output:\", baz)\n",
            "```\n",
            "\n",
            "Now the variable names clearly indicate their purpose, making the code easier to understand.\n"
          ]
        }
      ]
    }
  ]
}